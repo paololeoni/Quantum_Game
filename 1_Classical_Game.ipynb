{
 "cells": [
  {
   "cell_type": "markdown",
   "id": "4c437545",
   "metadata": {},
   "source": [
    "# 🎲 The Black-Jack — *Classic Before Quantum*  \n",
    "\n",
    "Hello everyone! 👋  \n",
    "\n",
    "Before diving into **Quantum Blackjack**, it’s good practice to build the game in its **classical form** first.  \n",
    "In this notebook, we’ll walk through how to implement Blackjack step by step — the traditional way 🃏\n"
   ]
  },
  {
   "cell_type": "markdown",
   "id": "dd753c05",
   "metadata": {},
   "source": [
    "### 🃏 Blackjack (a.k.a. 21) — Quick Rules\n",
    "\n",
    "Welcome to Blackjack — the game where you try to hit 21 without exploding 💥  \n",
    "No chips, no money, just pure card chaos 🔮\n",
    "\n",
    "---\n",
    "\n",
    "### 🎯 Objective\n",
    "- Get as close to **21** as you can.  \n",
    "- If you go **over 21**, you **bust 💥** (instant loss).  \n",
    "- If the dealer busts and you don’t, you win 🙌.  \n",
    "- Otherwise, whoever is **closer to 21** wins.\n",
    "\n",
    "---\n",
    "\n",
    "### 🧮 Card Values\n",
    "- **2–10** → face value (7 = 7, 9 = 9, etc.)  \n",
    "- **J, Q, K** → all worth **10 👑**  \n",
    "- **Ace (A)** → **1 or 11** (whichever helps you more 🦸)"
   ]
  },
  {
   "cell_type": "code",
   "execution_count": 2,
   "id": "9f0f590c",
   "metadata": {},
   "outputs": [
    {
     "name": "stdout",
     "output_type": "stream",
     "text": [
      "4\n"
     ]
    }
   ],
   "source": [
    "class Card:\n",
    "    def __init__(self, rank, suit):\n",
    "        self.rank = rank\n",
    "        self.suit = suit\n",
    "\n",
    "    def value(self):\n",
    "        try:\n",
    "            if self.rank in ['J', 'Q', 'K']:\n",
    "                return 10\n",
    "            if self.rank == 'A':\n",
    "                return 11  # or 1 based on game rules\n",
    "            return int(self.rank)  # Assuming rank is a number string for 2-10\n",
    "        except ValueError:\n",
    "            raise ValueError(\"Invalid rank value\")\n",
    "\n",
    "\n",
    "\n",
    "#PROGRAM TEST\n",
    "card = Card(4, 'Hearts')\n",
    "print(card.value())  # Should print 4"
   ]
  },
  {
   "cell_type": "code",
   "execution_count": 12,
   "id": "3a411b57",
   "metadata": {},
   "outputs": [
    {
     "name": "stdout",
     "output_type": "stream",
     "text": [
      "52\n",
      "4 Diamonds\n"
     ]
    }
   ],
   "source": [
    "import random\n",
    "\n",
    "class Deck:\n",
    "    def __init__(self, n_decks=1):\n",
    "        self.cards = []\n",
    "        for _ in range(n_decks):\n",
    "            for suit in ['Hearts', 'Diamonds', 'Clubs', 'Spades']:\n",
    "                for rank in range(2, 11):\n",
    "                    self.cards.append(Card(rank, suit))\n",
    "                for rank in ['J', 'Q', 'K', 'A']:\n",
    "                    self.cards.append(Card(rank, suit))\n",
    "        self.shuffle()\n",
    "\n",
    "    def shuffle(self):\n",
    "        random.shuffle(self.cards)\n",
    "\n",
    "    def draw(self):\n",
    "        return self.cards.pop() if self.cards else None\n",
    "    \n",
    "\n",
    "#PROGRAM TEST\n",
    "deck = Deck()\n",
    "print(len(deck.cards))  # Should print 52 for a single deck\n",
    "card = deck.draw()\n",
    "print(card.rank, card.suit)  # Should print the rank and suit of the drawn card"
   ]
  },
  {
   "cell_type": "markdown",
   "id": "5ff69d7c",
   "metadata": {},
   "source": [
    "\n",
    "### 🃏 The Deal\n",
    "- You start with **2 cards**.  \n",
    "- Dealer also gets **2 cards**: one face-up 👀, one face-down 🤫.\n"
   ]
  },
  {
   "cell_type": "code",
   "execution_count": 16,
   "id": "f7bd13b0",
   "metadata": {},
   "outputs": [
    {
     "name": "stdout",
     "output_type": "stream",
     "text": [
      "21\n"
     ]
    }
   ],
   "source": [
    "class Hand:\n",
    "    def __init__(self):\n",
    "        self.cards = []\n",
    "\n",
    "    def add_card(self, card):\n",
    "        self.cards.append(card)\n",
    "\n",
    "    def best_value(self):\n",
    "        # Calculate the best total value of the hand, considering Aces as 1 or 11\n",
    "        total = sum(card.value() for card in self.cards)\n",
    "        aces = sum(1 for card in self.cards if card.rank == 'A')\n",
    "        while total > 21 and aces:\n",
    "            total -= 10\n",
    "            aces -= 1\n",
    "        return total\n",
    "\n",
    "    def is_blackjack(self):\n",
    "        return len(self.cards) == 2 and self.best_value() == 21\n",
    "\n",
    "    def is_bust(self):\n",
    "        return self.best_value() > 21\n",
    "\n",
    "\n",
    "#PROGRAM TEST\n",
    "hand = Hand()\n",
    "hand.add_card(Card('A', 'Hearts'))\n",
    "hand.add_card(Card(10, 'Diamonds'))\n",
    "hand.add_card(Card(10, 'Clubs'))\n",
    "print(hand.best_value())  # Should print 21"
   ]
  },
  {
   "cell_type": "markdown",
   "id": "eaa5ea6b",
   "metadata": {},
   "source": [
    "\n",
    "### 💡 Your Choices\n",
    "- **Hit ➕** → take another card.  \n",
    "- **Stand ✋** → stop and lock in your total.  \n",
    "- _(Optional extras you can add later: Double, Split, etc.)_\n"
   ]
  },
  {
   "cell_type": "code",
   "execution_count": 26,
   "id": "d85ef28b",
   "metadata": {},
   "outputs": [
    {
     "name": "stdout",
     "output_type": "stream",
     "text": [
      "J Diamonds\n"
     ]
    },
    {
     "data": {
      "text/plain": [
       "'hit'"
      ]
     },
     "execution_count": 26,
     "metadata": {},
     "output_type": "execute_result"
    }
   ],
   "source": [
    "class Player:\n",
    "    def __init__(self, name):\n",
    "        self.name = name\n",
    "        self.hand = Hand()\n",
    "\n",
    "    def draw(self, deck):\n",
    "        card = deck.draw()\n",
    "        if card:\n",
    "            self.hand.add_card(card)\n",
    "        return card\n",
    "\n",
    "    def decide(self):\n",
    "        # Ask for input (hit/stand)\n",
    "        action = input(f\"{self.name}, do you want to hit or stand? \").strip().lower()\n",
    "        while action not in ['hit', 'stand']:\n",
    "            print(\"Invalid input. Please enter 'hit' or 'stand'.\")\n",
    "            action = input(f\"{self.name}, do you want to hit or stand? \").strip().lower()\n",
    "        return action\n",
    "\n",
    "\n",
    "#PROGRAM TEST\n",
    "player = Player(\"Alice\")\n",
    "deck = Deck()\n",
    "player.draw(deck)\n",
    "print(player.hand.cards[0].rank, player.hand.cards[0].suit)  # Should print the rank and suit of the drawn card\n",
    "player.decide()  # Should prompt for input"
   ]
  },
  {
   "cell_type": "markdown",
   "id": "4ae3b45e",
   "metadata": {},
   "source": [
    "### 🤖 Dealer’s Play\n",
    "- Dealer keeps drawing until total is **17 or higher**.  \n",
    "- Dealer rule (we’ll use this one ✅):  \n",
    "  - **S17** → dealer *stands* on soft 17 (Ace+6).  \n"
   ]
  },
  {
   "cell_type": "code",
   "execution_count": 39,
   "id": "c6a46928",
   "metadata": {},
   "outputs": [
    {
     "name": "stdout",
     "output_type": "stream",
     "text": [
      "Dealer drew a card.\n",
      "Dealer drew a card.\n",
      "Dealer drew a card.\n",
      "Dealer drew a card.\n",
      "8 Spades\n",
      "2 Hearts\n",
      "5 Diamonds\n",
      "3 Hearts\n"
     ]
    }
   ],
   "source": [
    "class Dealer(Player):\n",
    "    def play(self, deck):\n",
    "        # Dealer keeps hitting until 17 or higher\n",
    "        while self.hand.best_value() < 17:\n",
    "            self.draw(deck)\n",
    "            print(f\"{self.name} drew a card.\")\n",
    "\n",
    "\n",
    "#PROGRAM TEST\n",
    "dealer = Dealer(\"Dealer\")\n",
    "dealer.play(deck)\n",
    "for card in dealer.hand.cards:\n",
    "    print(card.rank, card.suit)  # Should print all cards in dealer's hand"
   ]
  },
  {
   "cell_type": "markdown",
   "id": "cecdab1a",
   "metadata": {},
   "source": [
    "### ✨ Special Case\n",
    "- **Blackjack!** (Ace + 10-value card on the first deal)  \n",
    "  → That’s the best possible hand, game over 🎉\n",
    "\n",
    "---\n",
    "\n",
    "### 📝 Terms\n",
    "- **Soft hand** → has an Ace counted as 11 (e.g., A+6 = soft 17).  \n",
    "- **Hard hand** → no Ace or Ace counted as 1.  \n",
    "- **Bust** → total over 21 = you’re out 💥.\n",
    "\n"
   ]
  },
  {
   "cell_type": "code",
   "execution_count": null,
   "id": "6f1228e4",
   "metadata": {},
   "outputs": [],
   "source": [
    "class Game:\n",
    "    def __init__(self):\n",
    "        self.deck = Deck()\n",
    "        self.deck.shuffle()\n",
    "        self.player = Player(\"Player\")\n",
    "        self.dealer = Dealer(\"Dealer\")\n",
    "\n",
    "    def deal_initial(self):\n",
    "        for _ in range(2):\n",
    "            card = self.player.draw(self.deck)\n",
    "            print(f\"{self.player.name} drew {card.rank} of {card.suit}. Current value: {self.player.hand.best_value()}\")\n",
    "            self.dealer.draw(self.deck)\n",
    "        print(f\"{self.player.name}'s initial hand value: {self.player.hand.best_value()}\")\n",
    "        print(f\"{self.dealer.name}'s visible card: {self.dealer.hand.cards[0].rank} of {self.dealer.hand.cards[0].suit}\")\n",
    "        if self.player.hand.is_blackjack():\n",
    "            print(f\"{self.player.name} has a blackjack! {self.player.name} wins!\")\n",
    "\n",
    "    def player_turn(self):\n",
    "        action = self.player.decide()\n",
    "        while action == 'hit':\n",
    "            card = self.player.draw(self.deck)\n",
    "            print(f\"{self.player.name} drew {card.rank} of {card.suit}. Current value: {self.player.hand.best_value()}\")\n",
    "            if self.player.hand.is_bust():\n",
    "                print(f\"{self.player.name} busts with value {self.player.hand.best_value()}!\")\n",
    "                return\n",
    "            action = self.player.decide()\n",
    "        # Player stands\n",
    "        print(f\"{self.player.name} stands with value {self.player.hand.best_value()}.\")\n",
    "\n",
    "    def dealer_turn(self):\n",
    "        self.dealer.play(self.deck)\n",
    "        print(f\"{self.dealer.name} stands with value {self.dealer.hand.best_value()}.\")\n",
    "\n",
    "    def determine_winner(self):\n",
    "        player_value = self.player.hand.best_value()\n",
    "        dealer_value = self.dealer.hand.best_value()\n",
    "\n",
    "        if self.player.hand.is_bust():\n",
    "            print(\"Dealer wins! Player busted.\")\n",
    "        elif self.dealer.hand.is_bust():\n",
    "            print(\"Player wins! Dealer busted.\")\n",
    "        elif player_value > dealer_value:\n",
    "            print(\"Player wins!\")\n",
    "        elif dealer_value > player_value:\n",
    "            print(\"Dealer wins!\")\n",
    "        else:\n",
    "            print(\"It's a tie!\")\n",
    "\n",
    "    def play_round(self):\n",
    "        self.player_turn()\n",
    "        if not self.player.hand.is_bust():\n",
    "            self.dealer_turn()\n",
    "\n",
    "    def start(self):\n",
    "        self.deal_initial()\n",
    "        if not self.player.hand.is_blackjack():\n",
    "            self.play_round()\n",
    "            self.determine_winner()\n",
    "\n",
    "game = Game()\n",
    "game.start()"
   ]
  },
  {
   "cell_type": "markdown",
   "id": "88823324",
   "metadata": {},
   "source": [
    "After filling / Implementing each above our game loop will look like:\n",
    "\n",
    "\n",
    "```python\n",
    "# 🎮 Running the Game\n",
    "\n",
    "def main():\n",
    "    game = Game()  # create a new game\n",
    "    \n",
    "    while True:\n",
    "        print(\"\\n--- New Round ---\")\n",
    "        game.play_round()  # one full round of Blackjack\n",
    "        \n",
    "        # Ask player if they want to play again\n",
    "        again = input(\"Play again? (y/n): \").lower()\n",
    "        if again != \"y\":\n",
    "            print(\"Thanks for playing! 👋\")\n",
    "            break\n",
    "\n",
    "\n",
    "# Start the game loop\n",
    "if __name__ == \"__main__\":\n",
    "    main()\n"
   ]
  }
 ],
 "metadata": {
  "kernelspec": {
   "display_name": "Python 3",
   "language": "python",
   "name": "python3"
  },
  "language_info": {
   "codemirror_mode": {
    "name": "ipython",
    "version": 3
   },
   "file_extension": ".py",
   "mimetype": "text/x-python",
   "name": "python",
   "nbconvert_exporter": "python",
   "pygments_lexer": "ipython3",
   "version": "3.12.2"
  }
 },
 "nbformat": 4,
 "nbformat_minor": 5
}
