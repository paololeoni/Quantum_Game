{
 "cells": [
  {
   "metadata": {},
   "cell_type": "markdown",
   "source": [
    "# Quantum Gates\n",
    "So far you are familiar with classical gates, however in quantum computing we need to use other gates. Thus in this lecture, quantum gates and circuits will be explained. We will go over the most basic operations and how they can be implemented in [QISKIT](https://github.com/Qiskit/qiskit). QISKIT is an open-source quantum computing software development framework for leveraging today's quantum processors in research, education, and business. It provides tools for creating and manipulating quantum programs and running them on prototype quantum devices and simulators."
   ],
   "id": "8a97c341931640bd"
  },
  {
   "metadata": {
    "ExecuteTime": {
     "end_time": "2025-09-25T09:04:14.805203Z",
     "start_time": "2025-09-25T09:04:14.800878Z"
    }
   },
   "cell_type": "code",
   "source": [
    "import qiskit\n",
    "from qiskit import transpile\n",
    "from qiskit import QuantumCircuit\n",
    "from qiskit_aer import AerSimulator\n",
    "from qiskit.visualization import plot_histogram\n",
    "import matplotlib.pyplot as plt\n",
    "import numpy as np"
   ],
   "id": "a7b59a0b7f4a17d9",
   "outputs": [],
   "execution_count": 14
  },
  {
   "metadata": {},
   "cell_type": "markdown",
   "source": [
    "## Single Qubit Gates\n",
    "To show how different quantum principles can be simulated, we need some understanding of quantum gates. Now we will see how to implement these principles in QISKIT. First, you need to install the QISKIT library.\n"
   ],
   "id": "79bd448561eacb8c"
  },
  {
   "metadata": {
    "ExecuteTime": {
     "end_time": "2025-09-25T09:04:14.825216Z",
     "start_time": "2025-09-25T09:04:14.818038Z"
    }
   },
   "cell_type": "code",
   "source": [
    "# To create a single qubit we can use the following\n",
    "single_qubit = qiskit.QuantumCircuit(1)"
   ],
   "id": "b956e0b7f02dbac9",
   "outputs": [],
   "execution_count": 15
  },
  {
   "metadata": {},
   "cell_type": "markdown",
   "source": [
    "### Hadamard Gate\n",
    "There are a lot of different gates that we can simulate using QISKIT. The most basic one is the Hadamard gate. The Hadamard gate is a one-qubit operation that maps the basis state $\\ket{0}$ to the superposition state $\\frac{|0⟩ + |1⟩}{\\sqrt{2}}$ and the basis state $\\ket{1}$ to the superposition state $\\frac{|0⟩ - |1⟩}{\\sqrt{2}}$. In other words, it takes a qubit in the state $\\ket{0}$ or $\\ket{1}$ and puts it into an equal superposition of both states.\n"
   ],
   "id": "585d19a39cf5c084"
  },
  {
   "metadata": {
    "ExecuteTime": {
     "end_time": "2025-09-25T09:04:14.865187Z",
     "start_time": "2025-09-25T09:04:14.836885Z"
    }
   },
   "cell_type": "code",
   "source": [
    "hadamard_qubit = QuantumCircuit(1) # Create a quantum circuit with one qubit\n",
    "hadamard_qubit.h(0) # Apply Hadamard gate to qubit 0\n",
    "hadamard_qubit.draw('mpl') # Draw the circuit"
   ],
   "id": "f7bcce43c68bf087",
   "outputs": [
    {
     "data": {
      "text/plain": [
       "<Figure size 185.453x117.056 with 1 Axes>"
      ],
      "image/png": "[encoded data removed]"
     },
     "execution_count": 16,
     "metadata": {},
     "output_type": "execute_result"
    }
   ],
   "execution_count": 16
  },
  {
   "metadata": {},
   "cell_type": "markdown",
   "source": [
    "### Rotation Gates\n",
    "Another important gate is the rotation gate. The rotation gate is a one-qubit operation that rotates the state of a qubit around the Bloch sphere. There are three types of rotation gates: Rx, Ry, and Rz. The Rx gate rotates the qubit around the x-axis, the Ry gate rotates the qubit around the y-axis, and the Rz gate rotates the qubit around the z-axis. These gates can be very useful for example to create a bias in a qubit. Maybe you want to represent a coin that has a higher chance of landing on heads. To do this you can actually apply a rotation gate after the Hadamard gate. To rotation can be represented as a mathematical operator:\n",
    "$$\n",
    "R_x(\\theta)= \\begin{bmatrix} cos(\\frac{\\theta}{2}) & -isin(\\frac{\\theta}{2}) \\\\ -isin(\\frac{\\theta}{2}) & cos(\\frac{\\theta}{2}) \\end{bmatrix} \\quad\n",
    "R_y(\\theta)= \\begin{bmatrix} cos(\\frac{\\theta}{2}) & sin(\\frac{\\theta}{2}) \\\\ sin(\\frac{\\theta}{2}) & cos(\\frac{\\theta}{2}) \\end{bmatrix} \\quad\n",
    "R_z(\\theta)= \\begin{bmatrix} e^{-i\\frac{\\theta}{2}} & 0 \\\\ 0 & e^{i\\frac{\\theta}{2}} \\end{bmatrix}\n",
    "$$\n",
    "\n",
    "\n",
    "From these gates we can see that the $R_y$ gate is solely changing the amplitude, which result to the probability. $R_z$ is only changing the phase and $R_x$ is both changing the phase and the amplitude at the same time."
   ],
   "id": "2f476a74a05ee909"
  },
  {
   "metadata": {
    "ExecuteTime": {
     "end_time": "2025-09-25T09:16:11.437999Z",
     "start_time": "2025-09-25T09:16:11.376926Z"
    }
   },
   "cell_type": "code",
   "source": [
    "# These gates can simply be implemented in QISKIT:\n",
    "r_qc = QuantumCircuit(1,1)\n",
    "r_qc.rx(np.pi/6, 0)   # Rotation of pi/6 around the y-axis on qubit 0\n",
    "r_qc.ry(np.pi/6, 0)   # Rotation of pi/6 around the y-axis on qubit 0\n",
    "r_qc.rz(np.pi/6, 0)   # Rotation of pi/6 around the y-axis on qubit 0\n",
    "r_qc.draw('mpl')"
   ],
   "id": "db8134a55505621b",
   "outputs": [
    {
     "data": {
      "text/plain": [
       "<Figure size 352.675x200.667 with 1 Axes>"
      ],
      "image/png": "[encoded data removed]"
     },
     "execution_count": 25,
     "metadata": {},
     "output_type": "execute_result"
    }
   ],
   "execution_count": 25
  },
  {
   "metadata": {},
   "cell_type": "markdown",
   "source": [
    "#### Pauli Gates\n",
    "Pauli gates are a very useful example of the rotation gates. Also the pauli gates are present in both the x, y and z direction. The Pauli x-gate is the equivalent of a classical not gate. The Pauli y-gate is a combination of a bit and phase flip. Lastly the Pauli z-gate is a phase flip. The mathematical representation of these gates are:\n",
    "$$ \\sigma_x = \\begin{bmatrix} 0 & 1 \\\\ 1 & 0 \\end{bmatrix} \\quad\n",
    "\\sigma_y = \\begin{bmatrix} 0 & -i \\\\ i & 0 \\end{bmatrix} \\quad\n",
    "\\sigma_z = \\begin{bmatrix} 1 & 0 \\\\ 0 & -1 \\end{bmatrix}\n",
    "$$\n",
    "As can be seen these pauli gates are just the rotation gates, but than for $\\theta= \\pi$. However, in literature they are always referred to as simply pauli gates."
   ],
   "id": "6129d1f3f55cc68a"
  },
  {
   "metadata": {
    "ExecuteTime": {
     "end_time": "2025-09-25T09:16:13.959316Z",
     "start_time": "2025-09-25T09:16:13.919868Z"
    }
   },
   "cell_type": "code",
   "source": [
    "sigma_qc = QuantumCircuit(1,1)\n",
    "sigma_qc.x(0)   # Pauli x-gate on qubit 0\n",
    "sigma_qc.y(0)   # Pauli y-gate on qubit 0\n",
    "sigma_qc.z(0)   # Pauli z-gate on qubit 0\n",
    "sigma_qc.draw('mpl')"
   ],
   "id": "da0f78eeee68ad21",
   "outputs": [
    {
     "data": {
      "text/plain": [
       "<Figure size 352.675x200.667 with 1 Axes>"
      ],
      "image/png": "[encoded data removed]"
     },
     "execution_count": 26,
     "metadata": {},
     "output_type": "execute_result"
    }
   ],
   "execution_count": 26
  },
  {
   "metadata": {},
   "cell_type": "markdown",
   "source": "### CNOT Gate",
   "id": "31e927e2e83f3e2e"
  },
  {
   "metadata": {
    "ExecuteTime": {
     "end_time": "2025-09-25T09:04:14.973599Z",
     "start_time": "2025-09-25T09:04:14.971744Z"
    }
   },
   "cell_type": "code",
   "source": "",
   "id": "5f5b1eea03b0718e",
   "outputs": [],
   "execution_count": null
  },
  {
   "metadata": {},
   "cell_type": "markdown",
   "source": "## Simulating Quantum principles",
   "id": "14f2e597e340db0e"
  },
  {
   "metadata": {},
   "cell_type": "markdown",
   "source": [
    "### Simulation\n",
    "In QISKIT it is possible to create different simulations. For our case we want to work with real data and outcomes. Thus we will use the AerSimulator to simulate our quantum circuits. In the following code you will how we must initialize the simulator and run a simple circuit with a Hadamard gate and a measurement."
   ],
   "id": "b6409cf27cd39d6f"
  },
  {
   "metadata": {
    "ExecuteTime": {
     "end_time": "2025-09-25T09:05:04.323472Z",
     "start_time": "2025-09-25T09:05:04.291874Z"
    }
   },
   "cell_type": "code",
   "source": [
    "def simulate():\n",
    "    ## Initialize the simulator\n",
    "    sim = AerSimulator()\n",
    "\n",
    "    ## Generates a transpiled version of the quantum circuit that is optimized for the specified backend (simulator in this case)\n",
    "    tqc = transpile(qc, sim)\n",
    "    ## Run the simulation with 1000 shots (repetitions) to get a distribution of results\n",
    "    result = sim.run(tqc, shots=1000).result()\n",
    "    return result\n",
    "\n",
    "\n",
    "\n",
    "## create a quantum circuit with one qubit\n",
    "qc = QuantumCircuit(1, 1)\n",
    "\n",
    "## Before measuring you can apply a certain gate\n",
    "## With the qc.measure function we can measure the qubit and the result can be stored in a 'classical' bit\n",
    "qc.measure(0, 0)\n",
    "\n",
    "qc.draw('mpl')"
   ],
   "id": "12e595236bee93e2",
   "outputs": [
    {
     "data": {
      "text/plain": [
       "<Figure size 185.453x200.667 with 1 Axes>"
      ],
      "image/png": "[encoded data removed]"
     },
     "execution_count": 22,
     "metadata": {},
     "output_type": "execute_result"
    }
   ],
   "execution_count": 22
  },
  {
   "metadata": {
    "ExecuteTime": {
     "end_time": "2025-09-25T09:05:06.496311Z",
     "start_time": "2025-09-25T09:05:06.332728Z"
    }
   },
   "cell_type": "code",
   "source": "plot_histogram(simulate().get_counts())",
   "id": "e51b728a8daac1df",
   "outputs": [
    {
     "data": {
      "text/plain": [
       "<Figure size 640x480 with 1 Axes>"
      ],
      "image/png": "[encoded data removed]"
     },
     "execution_count": 23,
     "metadata": {},
     "output_type": "execute_result"
    }
   ],
   "execution_count": 23
  },
  {
   "metadata": {},
   "cell_type": "markdown",
   "source": [
    "### Superposition\n",
    "\n",
    "With this simulations we can actually recreated the quantum principles. First of we have superposition, as said before superposition is the ability for a quantum system to be in different states at the same time. The goal now is to apply a certain gate that has been taught before, so you can simulate the effect of a superposition."
   ],
   "id": "61a8360d44e985ed"
  },
  {
   "cell_type": "code",
   "id": "initial_id",
   "metadata": {
    "collapsed": true,
    "ExecuteTime": {
     "end_time": "2025-09-25T09:04:15.181169Z",
     "start_time": "2025-09-25T09:04:15.177540Z"
    }
   },
   "source": [
    "## Create a quantum circuit with one qubit\n",
    "\n",
    "# Apply a certain gate taught before and measure the qubit\n",
    "\n",
    "# Use the simulate function\n",
    "\n",
    "# Plot the result and draw the circuit"
   ],
   "outputs": [],
   "execution_count": 19
  },
  {
   "metadata": {},
   "cell_type": "markdown",
   "source": [
    "#### 'Introducing bias'\n",
    "As taught before we have other gates that can rotate the states, which will make some states more favorable. In the following code you must try to create a coin that is 75% biased to land on heads, (let heads be the $\\ket{0}$ and tails $\\ket{1}$). Then plot the results, from the results it must be seen that it will be a distribution of 750 heads and 250 tails."
   ],
   "id": "d9270ef90a7c297b"
  },
  {
   "metadata": {},
   "cell_type": "code",
   "outputs": [],
   "execution_count": null,
   "source": "",
   "id": "953e3c8e563db28c"
  },
  {
   "metadata": {},
   "cell_type": "markdown",
   "source": [
    "#### Bonus 'Flipping the coin'\n",
    "As a bonus try to create the qiskit implementation of flipping this coin and then plot the results again."
   ],
   "id": "bd50663ec9a25d8f"
  },
  {
   "metadata": {},
   "cell_type": "code",
   "outputs": [],
   "execution_count": null,
   "source": "",
   "id": "638634ee12e7d2ab"
  },
  {
   "metadata": {},
   "cell_type": "markdown",
   "source": "### Entanglement",
   "id": "b90ecb233b244e4e"
  },
  {
   "metadata": {},
   "cell_type": "markdown",
   "source": "### Tunneling",
   "id": "830bb54f6f3559ad"
  }
 ],
 "metadata": {
  "kernelspec": {
   "display_name": "Python 3",
   "language": "python",
   "name": "python3"
  },
  "language_info": {
   "codemirror_mode": {
    "name": "ipython",
    "version": 2
   },
   "file_extension": ".py",
   "mimetype": "text/x-python",
   "name": "python",
   "nbconvert_exporter": "python",
   "pygments_lexer": "ipython2",
   "version": "2.7.6"
  }
 },
 "nbformat": 4,
 "nbformat_minor": 5
}
