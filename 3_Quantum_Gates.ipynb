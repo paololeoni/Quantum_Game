{
 "cells": [
  {
   "metadata": {},
   "cell_type": "markdown",
   "source": [
    "# Quantum Gates\n",
    "So far you are familiar with classical gates, however in quantum computing we need to use other gates. Thus in this lecture, quantum gates and circuits will be explained. We will go over the most basic operations and how they can be implemented in [QISKIT](https://github.com/Qiskit/qiskit). QISKIT is an open-source quantum computing software development framework for leveraging today's quantum processors in research, education, and business. It provides tools for creating and manipulating quantum programs and running them on prototype quantum devices and simulators."
   ],
   "id": "8a97c341931640bd"
  },
  {
   "metadata": {
    "ExecuteTime": {
     "end_time": "2025-09-18T12:47:49.443531Z",
     "start_time": "2025-09-18T12:47:49.439257Z"
    }
   },
   "cell_type": "code",
   "source": [
    "import qiskit\n",
    "from qiskit import transpile\n",
    "from qiskit import QuantumCircuit\n",
    "from qiskit_aer import AerSimulator\n",
    "from qiskit.visualization import plot_histogram\n",
    "import matplotlib.pyplot as plt"
   ],
   "id": "a7b59a0b7f4a17d9",
   "outputs": [],
   "execution_count": 12
  },
  {
   "metadata": {},
   "cell_type": "markdown",
   "source": [
    "## Single Qubit Gates\n",
    "To show how different quantum principles can be simulated, we need some understanding of quantum gates. Now we will see how to implement these principles in QISKIT. First, you need to install the QISKIT library.\n"
   ],
   "id": "79bd448561eacb8c"
  },
  {
   "metadata": {
    "ExecuteTime": {
     "end_time": "2025-09-18T12:47:49.477433Z",
     "start_time": "2025-09-18T12:47:49.473944Z"
    }
   },
   "cell_type": "code",
   "source": [
    "# To create a single qubit we can use the following\n",
    "single_qubit = qiskit.QuantumCircuit(1)"
   ],
   "id": "b956e0b7f02dbac9",
   "outputs": [],
   "execution_count": 13
  },
  {
   "metadata": {},
   "cell_type": "markdown",
   "source": [
    "### Hadamard Gate\n",
    "There are a lot of different gates that we can simulate using QISKIT. The most basic one is the Hadamard gate. The Hadamard gate is a one-qubit operation that maps the basis state $\\ket{0}$ to the superposition state $\\frac{|0⟩ + |1⟩}{\\sqrt{2}}$ and the basis state $\\ket{1}$ to the superposition state $\\frac{|0⟩ - |1⟩}{\\sqrt{2}}$. In other words, it takes a qubit in the state $\\ket{0}$ or $\\ket{1}$ and puts it into an equal superposition of both states.\n"
   ],
   "id": "585d19a39cf5c084"
  },
  {
   "metadata": {
    "ExecuteTime": {
     "end_time": "2025-09-18T12:47:49.531297Z",
     "start_time": "2025-09-18T12:47:49.499850Z"
    }
   },
   "cell_type": "code",
   "source": [
    "hadamard_qubit = QuantumCircuit(1) # Create a quantum circuit with one qubit\n",
    "hadamard_qubit.h(0) # Apply Hadamard gate to qubit 0\n",
    "hadamard_qubit.draw('mpl') # Draw the circuit"
   ],
   "id": "f7bcce43c68bf087",
   "outputs": [
    {
     "data": {
      "text/plain": [
       "<Figure size 185.453x117.056 with 1 Axes>"
      ],
      "image/png": "[encoded data removed]"
     },
     "execution_count": 14,
     "metadata": {},
     "output_type": "execute_result"
    }
   ],
   "execution_count": 14
  },
  {
   "metadata": {},
   "cell_type": "markdown",
   "source": [
    "### Rotation Gates\n",
    "Another important gate is the rotation gate. The rotation gate is a one-qubit operation that rotates the state of a qubit around the Bloch sphere. There are three types of rotation gates: Rx, Ry, and Rz. The Rx gate rotates the qubit around the x-axis, the Ry gate rotates the qubit around the y-axis, and the Rz gate rotates the qubit around the z-axis."
   ],
   "id": "2f476a74a05ee909"
  },
  {
   "metadata": {
    "ExecuteTime": {
     "end_time": "2025-09-18T12:47:49.541526Z",
     "start_time": "2025-09-18T12:47:49.538512Z"
    }
   },
   "cell_type": "code",
   "source": "",
   "id": "db8134a55505621b",
   "outputs": [],
   "execution_count": null
  },
  {
   "metadata": {},
   "cell_type": "markdown",
   "source": "### Pauli Gates",
   "id": "6129d1f3f55cc68a"
  },
  {
   "metadata": {
    "ExecuteTime": {
     "end_time": "2025-09-18T12:47:49.560062Z",
     "start_time": "2025-09-18T12:47:49.557860Z"
    }
   },
   "cell_type": "code",
   "source": "",
   "id": "da0f78eeee68ad21",
   "outputs": [],
   "execution_count": null
  },
  {
   "metadata": {},
   "cell_type": "markdown",
   "source": "### CNOT Gate",
   "id": "31e927e2e83f3e2e"
  },
  {
   "metadata": {
    "ExecuteTime": {
     "end_time": "2025-09-18T12:47:49.593499Z",
     "start_time": "2025-09-18T12:47:49.590801Z"
    }
   },
   "cell_type": "code",
   "source": "",
   "id": "5f5b1eea03b0718e",
   "outputs": [],
   "execution_count": null
  },
  {
   "metadata": {},
   "cell_type": "markdown",
   "source": "## Simulating Quantum principles",
   "id": "14f2e597e340db0e"
  },
  {
   "metadata": {},
   "cell_type": "markdown",
   "source": [
    "### Simulation\n",
    "In QISKIT it is possible to create different simulations. For our case we want to work with real data and outcomes. Thus we will use the AerSimulator to simulate our quantum circuits. In the following code you will how we must initialize the simulator and run a simple circuit with a Hadamard gate and a measurement."
   ],
   "id": "b6409cf27cd39d6f"
  },
  {
   "metadata": {
    "ExecuteTime": {
     "end_time": "2025-09-18T12:47:49.779299Z",
     "start_time": "2025-09-18T12:47:49.622819Z"
    }
   },
   "cell_type": "code",
   "source": [
    "## create a quantum circuit with one qubit\n",
    "qc = QuantumCircuit(1, 1)\n",
    "## Apply a Hadamard gate to the qubit\n",
    "qc.h(0)\n",
    "## With the qc.measure function we can measure the qubit and the result can be stored in a 'classical' bit\n",
    "qc.measure(0, 0)\n",
    "\n",
    "## Initialize the simulator\n",
    "sim = AerSimulator()\n",
    "\n",
    "## Generates a transpiled version of the quantum circuit that is optimized for the specified backend (simulator in this case)\n",
    "tqc = transpile(qc, sim)\n",
    "\n",
    "## Run the simulation with 1000 shots (repetitions) to get a distribution of results\n",
    "result = sim.run(tqc, shots=1000).result()\n",
    "\n",
    "qc.draw('mpl')"
   ],
   "id": "12e595236bee93e2",
   "outputs": [
    {
     "data": {
      "text/plain": [
       "<Figure size 269.064x200.667 with 1 Axes>"
      ],
      "image/png": "[encoded data removed]"
     },
     "execution_count": 15,
     "metadata": {},
     "output_type": "execute_result"
    }
   ],
   "execution_count": 15
  },
  {
   "metadata": {},
   "cell_type": "markdown",
   "source": [
    "### Superposition\n",
    "\n",
    "In the example above we have kind of already simulated the superposition to see if it is working as expected we can plot the results here with a histogram. As can be seen in the code it will not create a perfect 50/50 distribution, but it should be close to it."
   ],
   "id": "61a8360d44e985ed"
  },
  {
   "cell_type": "code",
   "id": "initial_id",
   "metadata": {
    "collapsed": true,
    "ExecuteTime": {
     "end_time": "2025-09-18T12:47:49.869454Z",
     "start_time": "2025-09-18T12:47:49.794222Z"
    }
   },
   "source": "plot_histogram(result.get_counts())",
   "outputs": [
    {
     "data": {
      "text/plain": [
       "<Figure size 640x480 with 1 Axes>"
      ],
      "image/png": "[encoded data removed]"
     },
     "execution_count": 16,
     "metadata": {},
     "output_type": "execute_result"
    }
   ],
   "execution_count": 16
  },
  {
   "metadata": {},
   "cell_type": "markdown",
   "source": "### Entanglement",
   "id": "b90ecb233b244e4e"
  },
  {
   "metadata": {},
   "cell_type": "markdown",
   "source": "### Tunneling",
   "id": "830bb54f6f3559ad"
  },
  {
   "metadata": {},
   "cell_type": "markdown",
   "source": [
    "## Quantum Circuits\n",
    "Now we are going to see how we can create a quantum circuit from these gates. A quantum circuit will consist of multiple and can be used to perform different calculations or simulate quantum principles."
   ],
   "id": "ace1f5481b0f982f"
  },
  {
   "metadata": {},
   "cell_type": "markdown",
   "source": "### Measurement",
   "id": "e998431f521b335f"
  }
 ],
 "metadata": {
  "kernelspec": {
   "display_name": "Python 3",
   "language": "python",
   "name": "python3"
  },
  "language_info": {
   "codemirror_mode": {
    "name": "ipython",
    "version": 2
   },
   "file_extension": ".py",
   "mimetype": "text/x-python",
   "name": "python",
   "nbconvert_exporter": "python",
   "pygments_lexer": "ipython2",
   "version": "2.7.6"
  }
 },
 "nbformat": 4,
 "nbformat_minor": 5
}
