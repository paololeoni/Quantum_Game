{
 "cells": [
  {
   "metadata": {},
   "cell_type": "markdown",
   "source": [
    "# Quantum Gates\n",
    "So far you are familiar with classical gates, however in quantum computing we need to use other gates. Thus in this lecture, quantum gates and circuits will be explained. We will go over the most basic operations and how they can be implemented in [QISKIT](https://github.com/Qiskit/qiskit). QISKIT is an open-source quantum computing software development framework for leveraging today's quantum processors in research, education, and business. It provides tools for creating and manipulating quantum programs and running them on prototype quantum devices and simulators."
   ],
   "id": "8a97c341931640bd"
  },
  {
   "metadata": {},
   "cell_type": "markdown",
   "source": [
    "## Single Qubit Gates\n",
    "To show how different quantum principles can be simulated, we need some understanding of quantum gates. Now we will see how to implement these principles in QISKIT. First, you need to install the QISKIT library.\n"
   ],
   "id": "79bd448561eacb8c"
  },
  {
   "metadata": {},
   "cell_type": "markdown",
   "source": "### Hadamard Gate\n",
   "id": "585d19a39cf5c084"
  },
  {
   "metadata": {},
   "cell_type": "markdown",
   "source": "## Simulating Quantum principles",
   "id": "14f2e597e340db0e"
  },
  {
   "metadata": {},
   "cell_type": "markdown",
   "source": [
    "### Superposition\n",
    "\n",
    "To show the superposition we will use the same example with a coin."
   ],
   "id": "61a8360d44e985ed"
  },
  {
   "cell_type": "code",
   "id": "initial_id",
   "metadata": {
    "collapsed": true,
    "ExecuteTime": {
     "end_time": "2025-09-15T10:25:34.174970Z",
     "start_time": "2025-09-15T10:25:34.037940Z"
    }
   },
   "source": [
    "import qiskit\n",
    "import matplotlib.pyplot as plt\n",
    "\n",
    "coin = qiskit.QuantumCircuit(1)  # Create a quantum circuit with one qubit\n",
    "coin.h(0)\n",
    "coin.measure_all()  # Measure the qubit\n",
    "coin.draw('mpl')\n",
    "\n"
   ],
   "outputs": [
    {
     "ename": "MissingOptionalLibraryError",
     "evalue": "\"The 'matplotlib' library is required to use 'MatplotlibDrawer'. You can install it with 'pip install matplotlib'.\"",
     "output_type": "error",
     "traceback": [
      "\u001B[31m---------------------------------------------------------------------------\u001B[39m",
      "\u001B[31mMissingOptionalLibraryError\u001B[39m               Traceback (most recent call last)",
      "\u001B[36mCell\u001B[39m\u001B[36m \u001B[39m\u001B[32mIn[4]\u001B[39m\u001B[32m, line 7\u001B[39m\n\u001B[32m      5\u001B[39m coin.h(\u001B[32m0\u001B[39m)\n\u001B[32m      6\u001B[39m coin.measure_all()  \u001B[38;5;66;03m# Measure the qubit\u001B[39;00m\n\u001B[32m----> \u001B[39m\u001B[32m7\u001B[39m \u001B[43mcoin\u001B[49m\u001B[43m.\u001B[49m\u001B[43mdraw\u001B[49m\u001B[43m(\u001B[49m\u001B[33;43m'\u001B[39;49m\u001B[33;43mmpl\u001B[39;49m\u001B[33;43m'\u001B[39;49m\u001B[43m)\u001B[49m\n",
      "\u001B[36mFile \u001B[39m\u001B[32m~\\Documents\\QIST\\year_1\\QIST4200\\Quantum Game\\.venv\\Lib\\site-packages\\qiskit\\circuit\\quantumcircuit.py:3808\u001B[39m, in \u001B[36mQuantumCircuit.draw\u001B[39m\u001B[34m(self, output, scale, filename, style, interactive, plot_barriers, reverse_bits, justify, vertical_compression, idle_wires, with_layout, fold, ax, initial_state, cregbundle, wire_order, expr_len)\u001B[39m\n\u001B[32m   3805\u001B[39m \u001B[38;5;66;03m# pylint: disable=cyclic-import\u001B[39;00m\n\u001B[32m   3806\u001B[39m \u001B[38;5;28;01mfrom\u001B[39;00m\u001B[38;5;250m \u001B[39m\u001B[34;01mqiskit\u001B[39;00m\u001B[34;01m.\u001B[39;00m\u001B[34;01mvisualization\u001B[39;00m\u001B[38;5;250m \u001B[39m\u001B[38;5;28;01mimport\u001B[39;00m circuit_drawer\n\u001B[32m-> \u001B[39m\u001B[32m3808\u001B[39m \u001B[38;5;28;01mreturn\u001B[39;00m \u001B[43mcircuit_drawer\u001B[49m\u001B[43m(\u001B[49m\n\u001B[32m   3809\u001B[39m \u001B[43m    \u001B[49m\u001B[38;5;28;43mself\u001B[39;49m\u001B[43m,\u001B[49m\n\u001B[32m   3810\u001B[39m \u001B[43m    \u001B[49m\u001B[43mscale\u001B[49m\u001B[43m=\u001B[49m\u001B[43mscale\u001B[49m\u001B[43m,\u001B[49m\n\u001B[32m   3811\u001B[39m \u001B[43m    \u001B[49m\u001B[43mfilename\u001B[49m\u001B[43m=\u001B[49m\u001B[43mfilename\u001B[49m\u001B[43m,\u001B[49m\n\u001B[32m   3812\u001B[39m \u001B[43m    \u001B[49m\u001B[43mstyle\u001B[49m\u001B[43m=\u001B[49m\u001B[43mstyle\u001B[49m\u001B[43m,\u001B[49m\n\u001B[32m   3813\u001B[39m \u001B[43m    \u001B[49m\u001B[43moutput\u001B[49m\u001B[43m=\u001B[49m\u001B[43moutput\u001B[49m\u001B[43m,\u001B[49m\n\u001B[32m   3814\u001B[39m \u001B[43m    \u001B[49m\u001B[43minteractive\u001B[49m\u001B[43m=\u001B[49m\u001B[43minteractive\u001B[49m\u001B[43m,\u001B[49m\n\u001B[32m   3815\u001B[39m \u001B[43m    \u001B[49m\u001B[43mplot_barriers\u001B[49m\u001B[43m=\u001B[49m\u001B[43mplot_barriers\u001B[49m\u001B[43m,\u001B[49m\n\u001B[32m   3816\u001B[39m \u001B[43m    \u001B[49m\u001B[43mreverse_bits\u001B[49m\u001B[43m=\u001B[49m\u001B[43mreverse_bits\u001B[49m\u001B[43m,\u001B[49m\n\u001B[32m   3817\u001B[39m \u001B[43m    \u001B[49m\u001B[43mjustify\u001B[49m\u001B[43m=\u001B[49m\u001B[43mjustify\u001B[49m\u001B[43m,\u001B[49m\n\u001B[32m   3818\u001B[39m \u001B[43m    \u001B[49m\u001B[43mvertical_compression\u001B[49m\u001B[43m=\u001B[49m\u001B[43mvertical_compression\u001B[49m\u001B[43m,\u001B[49m\n\u001B[32m   3819\u001B[39m \u001B[43m    \u001B[49m\u001B[43midle_wires\u001B[49m\u001B[43m=\u001B[49m\u001B[43midle_wires\u001B[49m\u001B[43m,\u001B[49m\n\u001B[32m   3820\u001B[39m \u001B[43m    \u001B[49m\u001B[43mwith_layout\u001B[49m\u001B[43m=\u001B[49m\u001B[43mwith_layout\u001B[49m\u001B[43m,\u001B[49m\n\u001B[32m   3821\u001B[39m \u001B[43m    \u001B[49m\u001B[43mfold\u001B[49m\u001B[43m=\u001B[49m\u001B[43mfold\u001B[49m\u001B[43m,\u001B[49m\n\u001B[32m   3822\u001B[39m \u001B[43m    \u001B[49m\u001B[43max\u001B[49m\u001B[43m=\u001B[49m\u001B[43max\u001B[49m\u001B[43m,\u001B[49m\n\u001B[32m   3823\u001B[39m \u001B[43m    \u001B[49m\u001B[43minitial_state\u001B[49m\u001B[43m=\u001B[49m\u001B[43minitial_state\u001B[49m\u001B[43m,\u001B[49m\n\u001B[32m   3824\u001B[39m \u001B[43m    \u001B[49m\u001B[43mcregbundle\u001B[49m\u001B[43m=\u001B[49m\u001B[43mcregbundle\u001B[49m\u001B[43m,\u001B[49m\n\u001B[32m   3825\u001B[39m \u001B[43m    \u001B[49m\u001B[43mwire_order\u001B[49m\u001B[43m=\u001B[49m\u001B[43mwire_order\u001B[49m\u001B[43m,\u001B[49m\n\u001B[32m   3826\u001B[39m \u001B[43m    \u001B[49m\u001B[43mexpr_len\u001B[49m\u001B[43m=\u001B[49m\u001B[43mexpr_len\u001B[49m\u001B[43m,\u001B[49m\n\u001B[32m   3827\u001B[39m \u001B[43m\u001B[49m\u001B[43m)\u001B[49m\n",
      "\u001B[36mFile \u001B[39m\u001B[32m~\\Documents\\QIST\\year_1\\QIST4200\\Quantum Game\\.venv\\Lib\\site-packages\\qiskit\\visualization\\circuit\\circuit_visualization.py:339\u001B[39m, in \u001B[36mcircuit_drawer\u001B[39m\u001B[34m(circuit, scale, filename, style, output, interactive, plot_barriers, reverse_bits, justify, vertical_compression, idle_wires, with_layout, fold, ax, initial_state, cregbundle, wire_order, expr_len)\u001B[39m\n\u001B[32m    324\u001B[39m     \u001B[38;5;28;01mreturn\u001B[39;00m _generate_latex_source(\n\u001B[32m    325\u001B[39m         circuit,\n\u001B[32m    326\u001B[39m         filename=filename,\n\u001B[32m   (...)\u001B[39m\u001B[32m    336\u001B[39m         wire_order=complete_wire_order,\n\u001B[32m    337\u001B[39m     )\n\u001B[32m    338\u001B[39m \u001B[38;5;28;01melif\u001B[39;00m output == \u001B[33m\"\u001B[39m\u001B[33mmpl\u001B[39m\u001B[33m\"\u001B[39m:\n\u001B[32m--> \u001B[39m\u001B[32m339\u001B[39m     image = \u001B[43m_matplotlib_circuit_drawer\u001B[49m\u001B[43m(\u001B[49m\n\u001B[32m    340\u001B[39m \u001B[43m        \u001B[49m\u001B[43mcircuit\u001B[49m\u001B[43m,\u001B[49m\n\u001B[32m    341\u001B[39m \u001B[43m        \u001B[49m\u001B[43mscale\u001B[49m\u001B[43m=\u001B[49m\u001B[43mscale\u001B[49m\u001B[43m,\u001B[49m\n\u001B[32m    342\u001B[39m \u001B[43m        \u001B[49m\u001B[43mfilename\u001B[49m\u001B[43m=\u001B[49m\u001B[43mfilename\u001B[49m\u001B[43m,\u001B[49m\n\u001B[32m    343\u001B[39m \u001B[43m        \u001B[49m\u001B[43mstyle\u001B[49m\u001B[43m=\u001B[49m\u001B[43mstyle\u001B[49m\u001B[43m,\u001B[49m\n\u001B[32m    344\u001B[39m \u001B[43m        \u001B[49m\u001B[43mplot_barriers\u001B[49m\u001B[43m=\u001B[49m\u001B[43mplot_barriers\u001B[49m\u001B[43m,\u001B[49m\n\u001B[32m    345\u001B[39m \u001B[43m        \u001B[49m\u001B[43mreverse_bits\u001B[49m\u001B[43m=\u001B[49m\u001B[43mreverse_bits\u001B[49m\u001B[43m,\u001B[49m\n\u001B[32m    346\u001B[39m \u001B[43m        \u001B[49m\u001B[43mjustify\u001B[49m\u001B[43m=\u001B[49m\u001B[43mjustify\u001B[49m\u001B[43m,\u001B[49m\n\u001B[32m    347\u001B[39m \u001B[43m        \u001B[49m\u001B[43midle_wires\u001B[49m\u001B[43m=\u001B[49m\u001B[43midle_wires\u001B[49m\u001B[43m,\u001B[49m\n\u001B[32m    348\u001B[39m \u001B[43m        \u001B[49m\u001B[43mwith_layout\u001B[49m\u001B[43m=\u001B[49m\u001B[43mwith_layout\u001B[49m\u001B[43m,\u001B[49m\n\u001B[32m    349\u001B[39m \u001B[43m        \u001B[49m\u001B[43mfold\u001B[49m\u001B[43m=\u001B[49m\u001B[43mfold\u001B[49m\u001B[43m,\u001B[49m\n\u001B[32m    350\u001B[39m \u001B[43m        \u001B[49m\u001B[43max\u001B[49m\u001B[43m=\u001B[49m\u001B[43max\u001B[49m\u001B[43m,\u001B[49m\n\u001B[32m    351\u001B[39m \u001B[43m        \u001B[49m\u001B[43minitial_state\u001B[49m\u001B[43m=\u001B[49m\u001B[43minitial_state\u001B[49m\u001B[43m,\u001B[49m\n\u001B[32m    352\u001B[39m \u001B[43m        \u001B[49m\u001B[43mcregbundle\u001B[49m\u001B[43m=\u001B[49m\u001B[43mcregbundle\u001B[49m\u001B[43m,\u001B[49m\n\u001B[32m    353\u001B[39m \u001B[43m        \u001B[49m\u001B[43mwire_order\u001B[49m\u001B[43m=\u001B[49m\u001B[43mcomplete_wire_order\u001B[49m\u001B[43m,\u001B[49m\n\u001B[32m    354\u001B[39m \u001B[43m        \u001B[49m\u001B[43mexpr_len\u001B[49m\u001B[43m=\u001B[49m\u001B[43mexpr_len\u001B[49m\u001B[43m,\u001B[49m\n\u001B[32m    355\u001B[39m \u001B[43m    \u001B[49m\u001B[43m)\u001B[49m\n\u001B[32m    356\u001B[39m \u001B[38;5;28;01melse\u001B[39;00m:\n\u001B[32m    357\u001B[39m     \u001B[38;5;28;01mraise\u001B[39;00m VisualizationError(\n\u001B[32m    358\u001B[39m         \u001B[33mf\u001B[39m\u001B[33m\"\u001B[39m\u001B[33mInvalid output type \u001B[39m\u001B[38;5;132;01m{\u001B[39;00moutput\u001B[38;5;132;01m}\u001B[39;00m\u001B[33m selected. The only valid choices \u001B[39m\u001B[33m\"\u001B[39m\n\u001B[32m    359\u001B[39m         \u001B[33m\"\u001B[39m\u001B[33mare text, latex, latex_source, and mpl\u001B[39m\u001B[33m\"\u001B[39m\n\u001B[32m    360\u001B[39m     )\n",
      "\u001B[36mFile \u001B[39m\u001B[32m~\\Documents\\QIST\\year_1\\QIST4200\\Quantum Game\\.venv\\Lib\\site-packages\\qiskit\\visualization\\circuit\\circuit_visualization.py:719\u001B[39m, in \u001B[36m_matplotlib_circuit_drawer\u001B[39m\u001B[34m(circuit, scale, filename, style, plot_barriers, reverse_bits, justify, idle_wires, with_layout, fold, ax, initial_state, cregbundle, wire_order, expr_len)\u001B[39m\n\u001B[32m    716\u001B[39m \u001B[38;5;28;01mif\u001B[39;00m fold \u001B[38;5;129;01mis\u001B[39;00m \u001B[38;5;28;01mNone\u001B[39;00m:\n\u001B[32m    717\u001B[39m     fold = \u001B[32m25\u001B[39m\n\u001B[32m--> \u001B[39m\u001B[32m719\u001B[39m qcd = \u001B[43m_matplotlib\u001B[49m\u001B[43m.\u001B[49m\u001B[43mMatplotlibDrawer\u001B[49m\u001B[43m(\u001B[49m\n\u001B[32m    720\u001B[39m \u001B[43m    \u001B[49m\u001B[43mqubits\u001B[49m\u001B[43m,\u001B[49m\n\u001B[32m    721\u001B[39m \u001B[43m    \u001B[49m\u001B[43mclbits\u001B[49m\u001B[43m,\u001B[49m\n\u001B[32m    722\u001B[39m \u001B[43m    \u001B[49m\u001B[43mnodes\u001B[49m\u001B[43m,\u001B[49m\n\u001B[32m    723\u001B[39m \u001B[43m    \u001B[49m\u001B[43mcircuit\u001B[49m\u001B[43m,\u001B[49m\n\u001B[32m    724\u001B[39m \u001B[43m    \u001B[49m\u001B[43mscale\u001B[49m\u001B[43m=\u001B[49m\u001B[43mscale\u001B[49m\u001B[43m,\u001B[49m\n\u001B[32m    725\u001B[39m \u001B[43m    \u001B[49m\u001B[43mstyle\u001B[49m\u001B[43m=\u001B[49m\u001B[43mstyle\u001B[49m\u001B[43m,\u001B[49m\n\u001B[32m    726\u001B[39m \u001B[43m    \u001B[49m\u001B[43mreverse_bits\u001B[49m\u001B[43m=\u001B[49m\u001B[43mreverse_bits\u001B[49m\u001B[43m,\u001B[49m\n\u001B[32m    727\u001B[39m \u001B[43m    \u001B[49m\u001B[43mplot_barriers\u001B[49m\u001B[43m=\u001B[49m\u001B[43mplot_barriers\u001B[49m\u001B[43m,\u001B[49m\n\u001B[32m    728\u001B[39m \u001B[43m    \u001B[49m\u001B[43mfold\u001B[49m\u001B[43m=\u001B[49m\u001B[43mfold\u001B[49m\u001B[43m,\u001B[49m\n\u001B[32m    729\u001B[39m \u001B[43m    \u001B[49m\u001B[43max\u001B[49m\u001B[43m=\u001B[49m\u001B[43max\u001B[49m\u001B[43m,\u001B[49m\n\u001B[32m    730\u001B[39m \u001B[43m    \u001B[49m\u001B[43minitial_state\u001B[49m\u001B[43m=\u001B[49m\u001B[43minitial_state\u001B[49m\u001B[43m,\u001B[49m\n\u001B[32m    731\u001B[39m \u001B[43m    \u001B[49m\u001B[43mcregbundle\u001B[49m\u001B[43m=\u001B[49m\u001B[43mcregbundle\u001B[49m\u001B[43m,\u001B[49m\n\u001B[32m    732\u001B[39m \u001B[43m    \u001B[49m\u001B[43mwith_layout\u001B[49m\u001B[43m=\u001B[49m\u001B[43mwith_layout\u001B[49m\u001B[43m,\u001B[49m\n\u001B[32m    733\u001B[39m \u001B[43m    \u001B[49m\u001B[43mexpr_len\u001B[49m\u001B[43m=\u001B[49m\u001B[43mexpr_len\u001B[49m\u001B[43m,\u001B[49m\n\u001B[32m    734\u001B[39m \u001B[43m\u001B[49m\u001B[43m)\u001B[49m\n\u001B[32m    735\u001B[39m \u001B[38;5;28;01mreturn\u001B[39;00m qcd.draw(filename)\n",
      "\u001B[36mFile \u001B[39m\u001B[32m~\\Documents\\QIST\\year_1\\QIST4200\\Quantum Game\\.venv\\Lib\\site-packages\\qiskit\\utils\\classtools.py:111\u001B[39m, in \u001B[36m_WrappedMethod.__get__.<locals>.out\u001B[39m\u001B[34m(*args, **kwargs)\u001B[39m\n\u001B[32m    108\u001B[39m \u001B[38;5;129m@functools\u001B[39m.wraps(method)\n\u001B[32m    109\u001B[39m \u001B[38;5;28;01mdef\u001B[39;00m\u001B[38;5;250m \u001B[39m\u001B[34mout\u001B[39m(*args, **kwargs):\n\u001B[32m    110\u001B[39m     \u001B[38;5;28;01mfor\u001B[39;00m callback \u001B[38;5;129;01min\u001B[39;00m \u001B[38;5;28mself\u001B[39m._before:\n\u001B[32m--> \u001B[39m\u001B[32m111\u001B[39m         \u001B[43mcallback\u001B[49m\u001B[43m.\u001B[49m\u001B[34;43m__get__\u001B[39;49m\u001B[43m(\u001B[49m\u001B[43mobj\u001B[49m\u001B[43m,\u001B[49m\u001B[43m \u001B[49m\u001B[43mobjtype\u001B[49m\u001B[43m)\u001B[49m\u001B[43m(\u001B[49m\u001B[43m*\u001B[49m\u001B[43margs\u001B[49m\u001B[43m,\u001B[49m\u001B[43m \u001B[49m\u001B[43m*\u001B[49m\u001B[43m*\u001B[49m\u001B[43mkwargs\u001B[49m\u001B[43m)\u001B[49m\n\u001B[32m    112\u001B[39m     retval = method(*args, **kwargs)\n\u001B[32m    113\u001B[39m     \u001B[38;5;28;01mfor\u001B[39;00m callback \u001B[38;5;129;01min\u001B[39;00m \u001B[38;5;28mself\u001B[39m._after:\n",
      "\u001B[36mFile \u001B[39m\u001B[32m~\\Documents\\QIST\\year_1\\QIST4200\\Quantum Game\\.venv\\Lib\\site-packages\\qiskit\\utils\\lazy_tester.py:41\u001B[39m, in \u001B[36m_RequireNow.__call__\u001B[39m\u001B[34m(self, *_args, **_kwargs)\u001B[39m\n\u001B[32m     40\u001B[39m \u001B[38;5;28;01mdef\u001B[39;00m\u001B[38;5;250m \u001B[39m\u001B[34m__call__\u001B[39m(\u001B[38;5;28mself\u001B[39m, *_args, **_kwargs):\n\u001B[32m---> \u001B[39m\u001B[32m41\u001B[39m     \u001B[38;5;28;43mself\u001B[39;49m\u001B[43m.\u001B[49m\u001B[43m_tester\u001B[49m\u001B[43m.\u001B[49m\u001B[43mrequire_now\u001B[49m\u001B[43m(\u001B[49m\u001B[38;5;28;43mself\u001B[39;49m\u001B[43m.\u001B[49m\u001B[43m_feature\u001B[49m\u001B[43m)\u001B[49m\n",
      "\u001B[36mFile \u001B[39m\u001B[32m~\\Documents\\QIST\\year_1\\QIST4200\\Quantum Game\\.venv\\Lib\\site-packages\\qiskit\\utils\\lazy_tester.py:221\u001B[39m, in \u001B[36mLazyDependencyManager.require_now\u001B[39m\u001B[34m(self, feature)\u001B[39m\n\u001B[32m    219\u001B[39m \u001B[38;5;28;01mif\u001B[39;00m \u001B[38;5;28mself\u001B[39m:\n\u001B[32m    220\u001B[39m     \u001B[38;5;28;01mreturn\u001B[39;00m\n\u001B[32m--> \u001B[39m\u001B[32m221\u001B[39m \u001B[38;5;28;01mraise\u001B[39;00m MissingOptionalLibraryError(\n\u001B[32m    222\u001B[39m     libname=\u001B[38;5;28mself\u001B[39m._name, name=feature, pip_install=\u001B[38;5;28mself\u001B[39m._install, msg=\u001B[38;5;28mself\u001B[39m._msg\n\u001B[32m    223\u001B[39m )\n",
      "\u001B[31mMissingOptionalLibraryError\u001B[39m: \"The 'matplotlib' library is required to use 'MatplotlibDrawer'. You can install it with 'pip install matplotlib'.\""
     ]
    }
   ],
   "execution_count": 4
  },
  {
   "metadata": {},
   "cell_type": "markdown",
   "source": "## Quantum Circuits",
   "id": "ace1f5481b0f982f"
  },
  {
   "metadata": {},
   "cell_type": "markdown",
   "source": "## Creating the first function",
   "id": "3b4a5cf50174185c"
  }
 ],
 "metadata": {
  "kernelspec": {
   "display_name": "Python 3",
   "language": "python",
   "name": "python3"
  },
  "language_info": {
   "codemirror_mode": {
    "name": "ipython",
    "version": 2
   },
   "file_extension": ".py",
   "mimetype": "text/x-python",
   "name": "python",
   "nbconvert_exporter": "python",
   "pygments_lexer": "ipython2",
   "version": "2.7.6"
  }
 },
 "nbformat": 4,
 "nbformat_minor": 5
}
