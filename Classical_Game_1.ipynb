{
 "cells": [
  {
   "cell_type": "markdown",
   "id": "565a4d48",
   "metadata": {},
   "source": [
    "# Classical Game\n",
    "In this first notebook, we will focus on how to build the classical version of the game."
   ]
  }
 ],
 "metadata": {
  "language_info": {
   "name": "python"
  }
 },
 "nbformat": 4,
 "nbformat_minor": 5
}
